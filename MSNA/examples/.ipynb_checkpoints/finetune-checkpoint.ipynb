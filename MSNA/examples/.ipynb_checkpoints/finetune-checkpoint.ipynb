{
 "cells": [
  {
   "cell_type": "code",
   "execution_count": 4,
   "id": "4f494997-08b9-4d3e-99d9-fb0d9620cc5b",
   "metadata": {},
   "outputs": [],
   "source": [
    "import sys\n",
    "sys.path.append(\"..\")\n",
    "from msna_common import read_msna\n",
    "from msna_pipeline import MSNA_pipeline"
   ]
  },
  {
   "cell_type": "code",
   "execution_count": 6,
   "id": "f4273032-a443-4df8-a450-b2eb52bcb091",
   "metadata": {},
   "outputs": [
    {
     "ename": "FileNotFoundError",
     "evalue": "[Errno 2] No such file or directory: 'path/to/df'",
     "output_type": "error",
     "traceback": [
      "\u001b[0;31m---------------------------------------------------------------------------\u001b[0m",
      "\u001b[0;31mFileNotFoundError\u001b[0m                         Traceback (most recent call last)",
      "Cell \u001b[0;32mIn[6], line 3\u001b[0m\n\u001b[1;32m      1\u001b[0m pipeline \u001b[38;5;241m=\u001b[39m MSNA_pipeline(verbose\u001b[38;5;241m=\u001b[39m\u001b[38;5;28;01mTrue\u001b[39;00m)\n\u001b[1;32m      2\u001b[0m pipeline\u001b[38;5;241m.\u001b[39mload(\u001b[38;5;124m\"\u001b[39m\u001b[38;5;124m../pretrained\u001b[39m\u001b[38;5;124m\"\u001b[39m)\n\u001b[0;32m----> 3\u001b[0m new_df \u001b[38;5;241m=\u001b[39m \u001b[43mread_msna\u001b[49m\u001b[43m(\u001b[49m\u001b[38;5;124;43m\"\u001b[39;49m\u001b[38;5;124;43mpath/to/df\u001b[39;49m\u001b[38;5;124;43m\"\u001b[39;49m\u001b[43m)\u001b[49m\n",
      "File \u001b[0;32m/home/tripp/msna/MSNA/msna_file_io.py:19\u001b[0m, in \u001b[0;36mread_msna\u001b[0;34m(file_path)\u001b[0m\n\u001b[1;32m     16\u001b[0m data \u001b[38;5;241m=\u001b[39m []\n\u001b[1;32m     18\u001b[0m \u001b[38;5;66;03m# Read file\u001b[39;00m\n\u001b[0;32m---> 19\u001b[0m \u001b[38;5;28;01mwith\u001b[39;00m \u001b[38;5;28;43mopen\u001b[39;49m\u001b[43m(\u001b[49m\u001b[43mfile_path\u001b[49m\u001b[43m,\u001b[49m\u001b[43m \u001b[49m\u001b[38;5;124;43m'\u001b[39;49m\u001b[38;5;124;43mr\u001b[39;49m\u001b[38;5;124;43m'\u001b[39;49m\u001b[43m,\u001b[49m\u001b[43m \u001b[49m\u001b[43mencoding\u001b[49m\u001b[38;5;241;43m=\u001b[39;49m\u001b[38;5;124;43m'\u001b[39;49m\u001b[38;5;124;43mutf-8\u001b[39;49m\u001b[38;5;124;43m'\u001b[39;49m\u001b[43m,\u001b[49m\u001b[43m \u001b[49m\u001b[43merrors\u001b[49m\u001b[38;5;241;43m=\u001b[39;49m\u001b[38;5;124;43m'\u001b[39;49m\u001b[38;5;124;43mreplace\u001b[39;49m\u001b[38;5;124;43m'\u001b[39;49m\u001b[43m)\u001b[49m \u001b[38;5;28;01mas\u001b[39;00m file:\n\u001b[1;32m     20\u001b[0m     lines \u001b[38;5;241m=\u001b[39m file\u001b[38;5;241m.\u001b[39mreadlines()\n\u001b[1;32m     22\u001b[0m data \u001b[38;5;241m=\u001b[39m []\n",
      "\u001b[0;31mFileNotFoundError\u001b[0m: [Errno 2] No such file or directory: 'path/to/df'"
     ]
    }
   ],
   "source": [
    "pipeline = MSNA_pipeline(verbose=True)\n",
    "pipeline.load(\"../pretrained\")\n",
    "new_df = read_msna(\"path/to/df\")"
   ]
  },
  {
   "cell_type": "code",
   "execution_count": 3,
   "id": "a6dad4d1-9cb8-4ae0-a61e-62d8fe063af9",
   "metadata": {},
   "outputs": [
    {
     "name": "stdout",
     "output_type": "stream",
     "text": [
      "Processing dataframes.\n",
      "Processed dataframes, chunking.\n",
      "Got chunks, making dataloader.\n",
      "Made dataloadder, training CNN.\n",
      "Epoch [2/64], Loss: 0.2377\n",
      "Epoch [4/64], Loss: 0.2058\n",
      "Epoch [6/64], Loss: 0.1800\n",
      "Epoch [8/64], Loss: 0.1595\n",
      "Epoch [10/64], Loss: 0.1458\n",
      "Epoch [12/64], Loss: 0.1332\n",
      "Epoch [14/64], Loss: 0.1227\n",
      "Epoch [16/64], Loss: 0.1148\n",
      "Epoch [18/64], Loss: 0.1077\n",
      "Epoch [20/64], Loss: 0.1025\n",
      "Epoch [22/64], Loss: 0.0970\n",
      "Epoch [24/64], Loss: 0.0940\n",
      "Epoch [26/64], Loss: 0.0899\n",
      "Epoch [28/64], Loss: 0.0869\n",
      "Epoch [30/64], Loss: 0.0814\n",
      "Epoch [32/64], Loss: 0.0818\n",
      "Epoch 00032: reducing learning rate of group 0 to 1.0000e-04.\n",
      "Epoch [34/64], Loss: 0.0588\n",
      "Epoch [36/64], Loss: 0.0559\n",
      "Epoch [38/64], Loss: 0.0545\n",
      "Epoch [40/64], Loss: 0.0541\n",
      "Epoch [42/64], Loss: 0.0529\n",
      "Epoch [44/64], Loss: 0.0519\n",
      "Epoch [46/64], Loss: 0.0511\n",
      "Epoch [48/64], Loss: 0.0506\n",
      "Epoch [50/64], Loss: 0.0502\n",
      "Epoch [52/64], Loss: 0.0498\n",
      "Epoch [54/64], Loss: 0.0495\n",
      "Epoch [56/64], Loss: 0.0490\n",
      "Epoch [58/64], Loss: 0.0487\n",
      "Epoch [60/64], Loss: 0.0487\n",
      "Epoch [62/64], Loss: 0.0478\n",
      "Epoch [64/64], Loss: 0.0485\n",
      "Epoch 00064: reducing learning rate of group 0 to 1.0000e-05.\n",
      "Training complete.\n",
      "trained CNN, getting threshold.\n",
      "Optimization terminated successfully.\n",
      "         Current function value: 0.062349\n",
      "         Iterations: 24\n",
      "         Function evaluations: 48\n",
      "Got threshold, training complete.\n"
     ]
    }
   ],
   "source": [
    "# Train on new file with smaller parameters\n",
    "pipeline.train(new_df, threshold_train_max_iter=8, num_epochs=4, learning_rate=0.00001)\n",
    "\n",
    "# Save new parameters\n",
    "pipeline.save(\"../pretrained\")"
   ]
  },
  {
   "cell_type": "code",
   "execution_count": null,
   "id": "00478083-7a9c-47e6-896e-2a4018de40c4",
   "metadata": {},
   "outputs": [],
   "source": []
  }
 ],
 "metadata": {
  "kernelspec": {
   "display_name": "Python 3 (ipykernel)",
   "language": "python",
   "name": "python3"
  },
  "language_info": {
   "codemirror_mode": {
    "name": "ipython",
    "version": 3
   },
   "file_extension": ".py",
   "mimetype": "text/x-python",
   "name": "python",
   "nbconvert_exporter": "python",
   "pygments_lexer": "ipython3",
   "version": "3.8.1"
  }
 },
 "nbformat": 4,
 "nbformat_minor": 5
}
